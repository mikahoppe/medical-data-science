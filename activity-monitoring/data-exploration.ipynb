{
 "cells": [
  {
   "cell_type": "code",
   "execution_count": 1,
   "id": "initial_id",
   "metadata": {
    "collapsed": true,
    "ExecuteTime": {
     "end_time": "2025-04-14T10:34:04.054840Z",
     "start_time": "2025-04-14T10:34:03.384736Z"
    }
   },
   "outputs": [],
   "source": [
    "import numpy as np"
   ]
  },
  {
   "cell_type": "code",
   "execution_count": 14,
   "outputs": [
    {
     "name": "stdout",
     "output_type": "stream",
     "text": [
      "Shape: (2284, 268, 3)\n",
      "Data type: float32\n",
      "First 5 elements: [[[ 1.55487812e+00  2.80487823e+00  2.50000000e+00]\n",
      "  [ 1.58536589e+00  2.83536601e+00  2.59146357e+00]\n",
      "  [ 1.73780489e+00  3.07926846e+00  2.46951222e+00]\n",
      "  ...\n",
      "  [ 5.61280518e+01 -3.99390244e+00  1.49695129e+01]\n",
      "  [ 4.80182953e+01 -7.40853691e+00  3.09451218e+01]\n",
      "  [ 3.96341476e+01 -9.54268360e+00  4.79878044e+01]]\n",
      "\n",
      " [[ 7.01219559e-01  1.15853667e+00 -1.06707323e+00]\n",
      "  [ 1.00609756e+00  1.28048778e+00 -1.43292689e+00]\n",
      "  [ 9.45122004e-01  1.31097567e+00 -1.49390244e+00]\n",
      "  ...\n",
      "  [ 3.53658562e+01  2.61280499e+01  1.17926834e+02]\n",
      "  [ 2.72865868e+01  2.63109760e+01  1.16554878e+02]\n",
      "  [ 8.53658581e+00  2.63109760e+01  1.13262199e+02]]\n",
      "\n",
      " [[ 8.84146333e-01  5.48780501e-01  3.04878056e-02]\n",
      "  [ 9.14634168e-01  7.62195110e-01 -3.04878056e-02]\n",
      "  [ 9.45122004e-01  7.92682946e-01 -3.04878056e-02]\n",
      "  ...\n",
      "  [-2.32317085e+01  4.23780489e+00 -3.90243912e+00]\n",
      "  [-4.93902445e+00  5.70121956e+00  7.31707335e-01]\n",
      "  [ 2.24390259e+01  9.66463470e+00  3.90243912e+00]]\n",
      "\n",
      " [[-2.43902445e-01  6.40243888e-01 -3.81097579e+00]\n",
      "  [-7.01219559e-01  1.82926834e-01 -3.29268312e+00]\n",
      "  [-6.09756112e-01 -1.52439028e-01 -2.95731711e+00]\n",
      "  ...\n",
      "  [ 5.79268336e-01  6.70731723e-01  4.87804890e-01]\n",
      "  [-3.65853667e-01  5.18292665e-01  8.53658557e-01]\n",
      "  [-1.03658533e+00  7.01219559e-01  6.70731723e-01]]\n",
      "\n",
      " [[ 3.04878044e+00  9.35975647e+00  1.82926834e+00]\n",
      "  [ 2.74390244e+00  1.02743902e+01  4.39024401e+00]\n",
      "  [ 3.20121956e+00  1.06402445e+01  5.60975647e+00]\n",
      "  ...\n",
      "  [ 2.16463423e+00  5.79268336e-01  2.13414639e-01]\n",
      "  [ 1.89024401e+00  4.87804890e-01 -1.21951222e-01]\n",
      "  [ 7.01219559e-01  3.04878056e-01 -4.57317084e-01]]]\n"
     ]
    }
   ],
   "source": [
    "# Load data from .npy file\n",
    "data = np.load('./data/training/trainMSGyroscope.npy')\n",
    "numberOfActivities = data.shape[0]\n",
    "\n",
    "# Inspect properties\n",
    "print(f\"Shape: {data.shape}\")\n",
    "print(f\"Data type: {data.dtype}\")\n",
    "print(f\"First 5 elements: {data[:5]}\")"
   ],
   "metadata": {
    "collapsed": false,
    "ExecuteTime": {
     "end_time": "2025-04-14T10:58:57.643547Z",
     "start_time": "2025-04-14T10:58:57.630932Z"
    }
   },
   "id": "4b269a7776051494"
  },
  {
   "cell_type": "code",
   "execution_count": 11,
   "outputs": [],
   "source": [
    "def mapCodeToActivity(activityCode):\n",
    "    \"\"\"\n",
    "    Maps activity codes to their corresponding activity names.\n",
    "    \"\"\"\n",
    "    activity_map = {\n",
    "        0: \"Bring\",\n",
    "        1: \"Clean Floor\",\n",
    "        2: \"Clean Surface\",\n",
    "        3: \"Close Big Box\",\n",
    "        4: \"Close Door\",\n",
    "        5: \"Close Drawer\",\n",
    "        6: \"Close Lid By Rotate\",\n",
    "        7: \"Close Other Lid\",\n",
    "        8: \"Close Small Box\",\n",
    "        9: \"Close Tap Water\",\n",
    "        10: \"Drink\",\n",
    "        11: \"Dry Off Hands\",\n",
    "        12: \"Dry Off Hands By Shake\",\n",
    "        13: \"Eat Small\",\n",
    "        14: \"Gargle\",\n",
    "        15: \"Getting Up\",\n",
    "        16: \"Hang\",\n",
    "        17: \"Lying Down\",\n",
    "        18: \"Open Bag\",\n",
    "        19: \"Open Big Box\",\n",
    "        20: \"Open Door\",\n",
    "        21: \"Open Drawer\",\n",
    "        22: \"Open Lid By Rotate\",\n",
    "        23: \"Open Other Lid\",\n",
    "        24: \"Open Small Box\",\n",
    "        25: \"Open Tap Water\",\n",
    "        26: \"Plug In\",\n",
    "        27: \"Press By Grasp\",\n",
    "        28: \"Press From Top\",\n",
    "        29: \"Press Switch\",\n",
    "        30: \"Put From Bottle\",\n",
    "        31: \"Put From Tap Water\",\n",
    "        32: \"Put High Position\",\n",
    "        33: \"Put On Floor\",\n",
    "        34: \"Read\",\n",
    "        35: \"Rotate\",\n",
    "        36: \"Rub Hands\",\n",
    "        37: \"Scoop And Put\",\n",
    "        38: \"Sitting Down\",\n",
    "        39: \"Squatting Down\",\n",
    "        40: \"Standing Up\",\n",
    "        41: \"Stand Up From Squatting\",\n",
    "        42: \"Take From Floor\",\n",
    "        43: \"Take From High Position\",\n",
    "        44: \"Take Off Jacket\",\n",
    "        45: \"Take Out\",\n",
    "        46: \"Talk By Telephone\",\n",
    "        47: \"Throw Out\",\n",
    "        48: \"Throw Out Water\",\n",
    "        49: \"Touch Smartphone Screen\",\n",
    "        50: \"Type\",\n",
    "        51: \"Unhang\",\n",
    "        52: \"Unplug\",\n",
    "        53: \"Wear Jacket\",\n",
    "        54: \"Write\"\n",
    "    }\n",
    "    \n",
    "    return activity_map.get(activityCode, \"Unknown Activity\")"
   ],
   "metadata": {
    "collapsed": false,
    "ExecuteTime": {
     "end_time": "2025-04-14T10:53:59.446703Z",
     "start_time": "2025-04-14T10:53:59.443544Z"
    }
   },
   "id": "27b11b1a34e9183c"
  },
  {
   "cell_type": "code",
   "execution_count": null,
   "outputs": [],
   "source": [],
   "metadata": {
    "collapsed": false
   },
   "id": "cbc1c13dce7a990e"
  }
 ],
 "metadata": {
  "kernelspec": {
   "display_name": "Python 3",
   "language": "python",
   "name": "python3"
  },
  "language_info": {
   "codemirror_mode": {
    "name": "ipython",
    "version": 2
   },
   "file_extension": ".py",
   "mimetype": "text/x-python",
   "name": "python",
   "nbconvert_exporter": "python",
   "pygments_lexer": "ipython2",
   "version": "2.7.6"
  }
 },
 "nbformat": 4,
 "nbformat_minor": 5
}
